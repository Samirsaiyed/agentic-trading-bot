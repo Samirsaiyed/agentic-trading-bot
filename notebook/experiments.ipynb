{
 "cells": [
  {
   "cell_type": "code",
   "execution_count": 1,
   "metadata": {},
   "outputs": [
    {
     "name": "stderr",
     "output_type": "stream",
     "text": [
      "Bad pipe message: %s [b' 10.0; Win64; x64) AppleWebKit/537.36 (KHTML, like Gecko) Chrome/138.0.0.0 Sa']\n",
      "Bad pipe message: %s [b'ri/537.36\\r\\nAccept: text/html,application/xhtml+xml,application/xml;q=0.9,image/avif,image/webp,image/', b'ng,*/*;q=0.8,application/signed-exchange;v=b3;q=0.7\\r\\nAccept-Encoding: gzip, deflate, br, zstd\\r\\nA']\n",
      "Bad pipe message: %s [b'ept-Language: en-US,en;q=0.9\\r\\nPriority: u=0, i\\r\\nReferer: https://studio.firebase.google.com/\\r\\nSec-', b'-Ua: \"Not)A;Brand\";v=\"8\", \"Chromium\";v=\"138\", \"Google Chrome\";v=\"1']\n",
      "Bad pipe message: %s [b'\"\\r\\nSec-Ch-Ua-Arch: \"x86\"\\r\\nSec-Ch-Ua-Bitness: \"64\"\\r']\n",
      "Bad pipe message: %s [b'ec-Ch-Ua-', b'rm-Factors: \"Desktop\"\\r\\nSec-Ch-Ua-Full-Version: \"138.0.7204.50\"\\r\\nSec-C', b'Ua-Full-Version-List: \"Not)A;Brand\";v=\"8.0.0.0\", \"Chromium\";v=\"138.0.7204.50\", \"Google Chrome\";v=\"138.0', b'204.50\"\\r\\nSec-Ch-Ua-Mobile: ?0\\r\\nSec-Ch-Ua-Mode', b' \"\"\\r\\nSec-Ch-Ua-Platform: \"Windows\"\\r\\nSec-Ch-Ua-Platform-Version: \"19.0.0\"\\r\\nSec-Ch-Ua-Wow64: ?0\\r\\nSec-Fetch-De']\n",
      "Bad pipe message: %s [b': iframe\\r\\nSec-Fetch-Mode: navigate\\r\\nSec-Fetch-Site: cross-site\\r\\nSec-Fetch-Storage-Access: active\\r\\nSec-Fetch-User: ']\n",
      "Bad pipe message: %s [b'\\r\\nSec-User-Ip: 10.20.20.199\\r\\nUpgrade-Insecure-Requests: 1\\r\\nX-F', b'warded-Host: 39825-firebase-agentic-trading-bot-1752209046871.cluster-ubrd2huk7jh6otbgyei4h62ope.cloudworkstat']\n"
     ]
    }
   ],
   "source": [
    "import os\n",
    "import sys"
   ]
  },
  {
   "cell_type": "code",
   "execution_count": null,
   "metadata": {},
   "outputs": [],
   "source": [
    "class TradingBotException(Exception):\n",
    "    \n",
    "    def __init__(self, error_message, error_details: sys):\n",
    "        self.error_message = error_message\n",
    "        _, _, exc_tb = error_details.exc_info()\n",
    "\n",
    "        self.lineno = exc_tb.tb_lineno\n",
    "        self.file_name = exc_tb.tb_frame.f_code.co_filename\n",
    "\n",
    "    def __str__(self):\n",
    "        return \"Error occured in python script name [{0}] line number [{1}] error message [{2}]\".format(\n",
    "            self.file_name, self.lineno, str(self.error_message)\n",
    "        )\n",
    "\n"
   ]
  },
  {
   "cell_type": "code",
   "execution_count": null,
   "metadata": {},
   "outputs": [],
   "source": [
    "    try:\n",
    "        a=1/0\n",
    "        print(\"This will not be printed\", a)\n",
    "    except Exception as e:\n",
    "        raise TradingBotException(e, sys)"
   ]
  }
 ],
 "metadata": {
  "kernelspec": {
   "display_name": "venv",
   "language": "python",
   "name": "python3"
  },
  "language_info": {
   "codemirror_mode": {
    "name": "ipython",
    "version": 3
   },
   "file_extension": ".py",
   "mimetype": "text/x-python",
   "name": "python",
   "nbconvert_exporter": "python",
   "pygments_lexer": "ipython3",
   "version": "3.11.10"
  }
 },
 "nbformat": 4,
 "nbformat_minor": 2
}
